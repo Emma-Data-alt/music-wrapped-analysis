{
 "cells": [
  {
   "cell_type": "code",
   "execution_count": 1,
   "id": "d74631f5-71ee-4164-ac3f-cbb3077287c8",
   "metadata": {},
   "outputs": [
    {
     "name": "stdout",
     "output_type": "stream",
     "text": [
      "Hello world, this is B and E-tree 💛\n"
     ]
    }
   ],
   "source": [
    "print(\"Hello world, this is B and E-tree 💛\")\n"
   ]
  },
  {
   "cell_type": "code",
   "execution_count": 1,
   "id": "dd4e6b53-b097-4387-b8b6-68714b3852c6",
   "metadata": {},
   "outputs": [
    {
     "name": "stdout",
     "output_type": "stream",
     "text": [
      "Loaded 28965 watch entries and 1423 search entries!\n"
     ]
    }
   ],
   "source": [
    "import json\n",
    "\n",
    "# Load watch-history.json\n",
    "with open('../watch-history.json', encoding='utf-8') as f:\n",
    "    watch_history = json.load(f)\n",
    "\n",
    "# Load search-history.json\n",
    "with open('../search-history.json', encoding='utf-8') as f:\n",
    "    search_history = json.load(f)\n",
    "\n",
    "print(f\"Loaded {len(watch_history)} watch entries and {len(search_history)} search entries!\")\n"
   ]
  },
  {
   "cell_type": "code",
   "execution_count": 2,
   "id": "695e5402-d032-48ab-b595-cb83353daa33",
   "metadata": {},
   "outputs": [
    {
     "data": {
      "text/html": [
       "<div>\n",
       "<style scoped>\n",
       "    .dataframe tbody tr th:only-of-type {\n",
       "        vertical-align: middle;\n",
       "    }\n",
       "\n",
       "    .dataframe tbody tr th {\n",
       "        vertical-align: top;\n",
       "    }\n",
       "\n",
       "    .dataframe thead th {\n",
       "        text-align: right;\n",
       "    }\n",
       "</style>\n",
       "<table border=\"1\" class=\"dataframe\">\n",
       "  <thead>\n",
       "    <tr style=\"text-align: right;\">\n",
       "      <th></th>\n",
       "      <th>header</th>\n",
       "      <th>title</th>\n",
       "      <th>titleUrl</th>\n",
       "      <th>subtitles</th>\n",
       "      <th>time</th>\n",
       "      <th>products</th>\n",
       "      <th>activityControls</th>\n",
       "    </tr>\n",
       "  </thead>\n",
       "  <tbody>\n",
       "    <tr>\n",
       "      <th>0</th>\n",
       "      <td>YouTube</td>\n",
       "      <td>Watched Documenting the biggest failure in vid...</td>\n",
       "      <td>https://www.youtube.com/watch?v=fAoONciUM7M</td>\n",
       "      <td>[{'name': 'Mujin', 'url': 'https://www.youtube...</td>\n",
       "      <td>2025-07-28T17:28:55.849Z</td>\n",
       "      <td>[YouTube]</td>\n",
       "      <td>[YouTube watch history]</td>\n",
       "    </tr>\n",
       "    <tr>\n",
       "      <th>1</th>\n",
       "      <td>YouTube</td>\n",
       "      <td>Watched How to Destroy Your Extremely Successf...</td>\n",
       "      <td>https://www.youtube.com/watch?v=TAbFPZxmaGw</td>\n",
       "      <td>[{'name': 'Mujin', 'url': 'https://www.youtube...</td>\n",
       "      <td>2025-07-28T16:48:21.714Z</td>\n",
       "      <td>[YouTube]</td>\n",
       "      <td>[YouTube watch history]</td>\n",
       "    </tr>\n",
       "    <tr>\n",
       "      <th>2</th>\n",
       "      <td>YouTube</td>\n",
       "      <td>Watched How this DERANGED Vtuber became known ...</td>\n",
       "      <td>https://www.youtube.com/watch?v=qOt8x9eBM8Q</td>\n",
       "      <td>[{'name': 'Mujin', 'url': 'https://www.youtube...</td>\n",
       "      <td>2025-07-28T16:15:36.087Z</td>\n",
       "      <td>[YouTube]</td>\n",
       "      <td>[YouTube watch history]</td>\n",
       "    </tr>\n",
       "  </tbody>\n",
       "</table>\n",
       "</div>"
      ],
      "text/plain": [
       "    header                                              title  \\\n",
       "0  YouTube  Watched Documenting the biggest failure in vid...   \n",
       "1  YouTube  Watched How to Destroy Your Extremely Successf...   \n",
       "2  YouTube  Watched How this DERANGED Vtuber became known ...   \n",
       "\n",
       "                                      titleUrl  \\\n",
       "0  https://www.youtube.com/watch?v=fAoONciUM7M   \n",
       "1  https://www.youtube.com/watch?v=TAbFPZxmaGw   \n",
       "2  https://www.youtube.com/watch?v=qOt8x9eBM8Q   \n",
       "\n",
       "                                           subtitles  \\\n",
       "0  [{'name': 'Mujin', 'url': 'https://www.youtube...   \n",
       "1  [{'name': 'Mujin', 'url': 'https://www.youtube...   \n",
       "2  [{'name': 'Mujin', 'url': 'https://www.youtube...   \n",
       "\n",
       "                       time   products         activityControls  \n",
       "0  2025-07-28T17:28:55.849Z  [YouTube]  [YouTube watch history]  \n",
       "1  2025-07-28T16:48:21.714Z  [YouTube]  [YouTube watch history]  \n",
       "2  2025-07-28T16:15:36.087Z  [YouTube]  [YouTube watch history]  "
      ]
     },
     "execution_count": 2,
     "metadata": {},
     "output_type": "execute_result"
    }
   ],
   "source": [
    "import pandas as pd\n",
    "\n",
    "# Create a DataFrame from your watch history\n",
    "watch_df = pd.DataFrame(watch_history)\n",
    "\n",
    "# Show the first few entries to see what the structure looks like\n",
    "watch_df.head(3)\n"
   ]
  },
  {
   "cell_type": "code",
   "execution_count": 3,
   "id": "e0ab245f-4e2e-4948-a84e-607a31803935",
   "metadata": {},
   "outputs": [
    {
     "data": {
      "text/html": [
       "<div>\n",
       "<style scoped>\n",
       "    .dataframe tbody tr th:only-of-type {\n",
       "        vertical-align: middle;\n",
       "    }\n",
       "\n",
       "    .dataframe tbody tr th {\n",
       "        vertical-align: top;\n",
       "    }\n",
       "\n",
       "    .dataframe thead th {\n",
       "        text-align: right;\n",
       "    }\n",
       "</style>\n",
       "<table border=\"1\" class=\"dataframe\">\n",
       "  <thead>\n",
       "    <tr style=\"text-align: right;\">\n",
       "      <th></th>\n",
       "      <th>header</th>\n",
       "      <th>title</th>\n",
       "      <th>titleUrl</th>\n",
       "      <th>subtitles</th>\n",
       "      <th>time</th>\n",
       "      <th>products</th>\n",
       "      <th>activityControls</th>\n",
       "    </tr>\n",
       "  </thead>\n",
       "  <tbody>\n",
       "  </tbody>\n",
       "</table>\n",
       "</div>"
      ],
      "text/plain": [
       "Empty DataFrame\n",
       "Columns: [header, title, titleUrl, subtitles, time, products, activityControls]\n",
       "Index: []"
      ]
     },
     "execution_count": 3,
     "metadata": {},
     "output_type": "execute_result"
    }
   ],
   "source": [
    "# Filter entries where the product is YouTube Music\n",
    "music_df = watch_df[watch_df['products'].astype(str).str.contains(\"YouTube Music\")].copy()\n",
    "\n",
    "# Show a preview of the filtered music data\n",
    "music_df.head(5)\n"
   ]
  },
  {
   "cell_type": "code",
   "execution_count": 4,
   "id": "dba6f3b9-72b6-4520-b077-d4596e34e461",
   "metadata": {},
   "outputs": [
    {
     "data": {
      "text/html": [
       "<div>\n",
       "<style scoped>\n",
       "    .dataframe tbody tr th:only-of-type {\n",
       "        vertical-align: middle;\n",
       "    }\n",
       "\n",
       "    .dataframe tbody tr th {\n",
       "        vertical-align: top;\n",
       "    }\n",
       "\n",
       "    .dataframe thead th {\n",
       "        text-align: right;\n",
       "    }\n",
       "</style>\n",
       "<table border=\"1\" class=\"dataframe\">\n",
       "  <thead>\n",
       "    <tr style=\"text-align: right;\">\n",
       "      <th></th>\n",
       "      <th>header</th>\n",
       "      <th>title</th>\n",
       "      <th>titleUrl</th>\n",
       "      <th>subtitles</th>\n",
       "      <th>time</th>\n",
       "      <th>products</th>\n",
       "      <th>activityControls</th>\n",
       "      <th>title_lower</th>\n",
       "      <th>url_lower</th>\n",
       "    </tr>\n",
       "  </thead>\n",
       "  <tbody>\n",
       "    <tr>\n",
       "      <th>6</th>\n",
       "      <td>YouTube Music</td>\n",
       "      <td>Watched Sean Paul - She Doesn't Mind (Jesse Bl...</td>\n",
       "      <td>https://music.youtube.com/watch?v=ghK8FuP4mB4</td>\n",
       "      <td>[{'name': 'Jesse Bloch', 'url': 'https://www.y...</td>\n",
       "      <td>2025-07-28T15:45:31.544Z</td>\n",
       "      <td>[YouTube]</td>\n",
       "      <td>[YouTube watch history]</td>\n",
       "      <td>watched sean paul - she doesn't mind (jesse bl...</td>\n",
       "      <td>https://music.youtube.com/watch?v=ghk8fup4mb4</td>\n",
       "    </tr>\n",
       "    <tr>\n",
       "      <th>17</th>\n",
       "      <td>YouTube Music</td>\n",
       "      <td>Watched Lady Gaga, Bruno Mars - Die With A Smi...</td>\n",
       "      <td>https://music.youtube.com/watch?v=bhzgi0g-EOc</td>\n",
       "      <td>[{'name': 'Theomatica', 'url': 'https://www.yo...</td>\n",
       "      <td>2025-07-28T12:46:58.004Z</td>\n",
       "      <td>[YouTube]</td>\n",
       "      <td>[YouTube watch history]</td>\n",
       "      <td>watched lady gaga, bruno mars - die with a smi...</td>\n",
       "      <td>https://music.youtube.com/watch?v=bhzgi0g-eoc</td>\n",
       "    </tr>\n",
       "    <tr>\n",
       "      <th>22</th>\n",
       "      <td>YouTube Music</td>\n",
       "      <td>Watched Teardrops (Rules Remix)</td>\n",
       "      <td>https://music.youtube.com/watch?v=z4TZuig4DeY</td>\n",
       "      <td>[{'name': 'Womack &amp; Womack - Topic', 'url': 'h...</td>\n",
       "      <td>2025-07-28T12:32:28.843Z</td>\n",
       "      <td>[YouTube]</td>\n",
       "      <td>[YouTube watch history]</td>\n",
       "      <td>watched teardrops (rules remix)</td>\n",
       "      <td>https://music.youtube.com/watch?v=z4tzuig4dey</td>\n",
       "    </tr>\n",
       "    <tr>\n",
       "      <th>25</th>\n",
       "      <td>YouTube Music</td>\n",
       "      <td>Watched Say My Name (Remix)</td>\n",
       "      <td>https://music.youtube.com/watch?v=gcA2ivj8Bgg</td>\n",
       "      <td>[{'name': 'Morgan Seatree - Topic', 'url': 'ht...</td>\n",
       "      <td>2025-07-28T12:24:10.137Z</td>\n",
       "      <td>[YouTube]</td>\n",
       "      <td>[YouTube watch history]</td>\n",
       "      <td>watched say my name (remix)</td>\n",
       "      <td>https://music.youtube.com/watch?v=gca2ivj8bgg</td>\n",
       "    </tr>\n",
       "    <tr>\n",
       "      <th>27</th>\n",
       "      <td>YouTube Music</td>\n",
       "      <td>Watched Ameno (Hard Techno Remix)</td>\n",
       "      <td>https://music.youtube.com/watch?v=C2XAD0pMnsI</td>\n",
       "      <td>[{'name': 'Jayron - Topic', 'url': 'https://ww...</td>\n",
       "      <td>2025-07-28T12:14:26.028Z</td>\n",
       "      <td>[YouTube]</td>\n",
       "      <td>[YouTube watch history]</td>\n",
       "      <td>watched ameno (hard techno remix)</td>\n",
       "      <td>https://music.youtube.com/watch?v=c2xad0pmnsi</td>\n",
       "    </tr>\n",
       "  </tbody>\n",
       "</table>\n",
       "</div>"
      ],
      "text/plain": [
       "           header                                              title  \\\n",
       "6   YouTube Music  Watched Sean Paul - She Doesn't Mind (Jesse Bl...   \n",
       "17  YouTube Music  Watched Lady Gaga, Bruno Mars - Die With A Smi...   \n",
       "22  YouTube Music                    Watched Teardrops (Rules Remix)   \n",
       "25  YouTube Music                        Watched Say My Name (Remix)   \n",
       "27  YouTube Music                  Watched Ameno (Hard Techno Remix)   \n",
       "\n",
       "                                         titleUrl  \\\n",
       "6   https://music.youtube.com/watch?v=ghK8FuP4mB4   \n",
       "17  https://music.youtube.com/watch?v=bhzgi0g-EOc   \n",
       "22  https://music.youtube.com/watch?v=z4TZuig4DeY   \n",
       "25  https://music.youtube.com/watch?v=gcA2ivj8Bgg   \n",
       "27  https://music.youtube.com/watch?v=C2XAD0pMnsI   \n",
       "\n",
       "                                            subtitles  \\\n",
       "6   [{'name': 'Jesse Bloch', 'url': 'https://www.y...   \n",
       "17  [{'name': 'Theomatica', 'url': 'https://www.yo...   \n",
       "22  [{'name': 'Womack & Womack - Topic', 'url': 'h...   \n",
       "25  [{'name': 'Morgan Seatree - Topic', 'url': 'ht...   \n",
       "27  [{'name': 'Jayron - Topic', 'url': 'https://ww...   \n",
       "\n",
       "                        time   products         activityControls  \\\n",
       "6   2025-07-28T15:45:31.544Z  [YouTube]  [YouTube watch history]   \n",
       "17  2025-07-28T12:46:58.004Z  [YouTube]  [YouTube watch history]   \n",
       "22  2025-07-28T12:32:28.843Z  [YouTube]  [YouTube watch history]   \n",
       "25  2025-07-28T12:24:10.137Z  [YouTube]  [YouTube watch history]   \n",
       "27  2025-07-28T12:14:26.028Z  [YouTube]  [YouTube watch history]   \n",
       "\n",
       "                                          title_lower  \\\n",
       "6   watched sean paul - she doesn't mind (jesse bl...   \n",
       "17  watched lady gaga, bruno mars - die with a smi...   \n",
       "22                    watched teardrops (rules remix)   \n",
       "25                        watched say my name (remix)   \n",
       "27                  watched ameno (hard techno remix)   \n",
       "\n",
       "                                        url_lower  \n",
       "6   https://music.youtube.com/watch?v=ghk8fup4mb4  \n",
       "17  https://music.youtube.com/watch?v=bhzgi0g-eoc  \n",
       "22  https://music.youtube.com/watch?v=z4tzuig4dey  \n",
       "25  https://music.youtube.com/watch?v=gca2ivj8bgg  \n",
       "27  https://music.youtube.com/watch?v=c2xad0pmnsi  "
      ]
     },
     "execution_count": 4,
     "metadata": {},
     "output_type": "execute_result"
    }
   ],
   "source": [
    "# Lowercase titles and URLs for safer keyword matching\n",
    "watch_df['title_lower'] = watch_df['title'].str.lower()\n",
    "watch_df['url_lower'] = watch_df['titleUrl'].str.lower()\n",
    "\n",
    "# Keywords that often signal music\n",
    "music_keywords = ['official audio', 'lyrics', 'topic', 'official video', 'remix', 'cover']\n",
    "\n",
    "# Match rows where title or URL contains any keyword\n",
    "music_df = watch_df[watch_df['title_lower'].fillna('').str.contains('|'.join(music_keywords)) |\n",
    "                    watch_df['url_lower'].fillna('').str.contains('|'.join(music_keywords))].copy()\n",
    "\n",
    "# Preview\n",
    "music_df.head(5)\n"
   ]
  },
  {
   "cell_type": "code",
   "execution_count": 5,
   "id": "1f5d388d-cb8f-4360-98fa-f907a32686f3",
   "metadata": {},
   "outputs": [
    {
     "data": {
      "text/plain": [
       "title\n",
       "Watched Woops (Dimitri Vegas & Junkie Kid Remix)           16\n",
       "Watched Born This Way (Jost & Naaf Remix)                  14\n",
       "Watched Big Ed Claps Back And I May Never Recover          10\n",
       "Watched Lady Gaga ♥ Fooled Me Again, Honest Eyes LYRICS    10\n",
       "Watched Beethoven - Fur Elise (Komuz Remix)                 9\n",
       "Watched Heads Will Roll (A-Trak Remix Radio Edit)           8\n",
       "Watched Gravity Falls Theme Song (OVA Dubstep Remix)        7\n",
       "Watched Say My Name (Remix)                                 7\n",
       "Watched Big Ed Is Covered In Mayo And On The Prowl          6\n",
       "Watched Berq - Rote Flaggen (Official Video)                6\n",
       "Name: count, dtype: int64"
      ]
     },
     "execution_count": 5,
     "metadata": {},
     "output_type": "execute_result"
    }
   ],
   "source": [
    "top_songs = music_df['title'].value_counts().head(10)\n",
    "top_songs\n"
   ]
  },
  {
   "cell_type": "code",
   "execution_count": 6,
   "id": "60b1bb2b-f439-4c7c-9318-403534b53ccf",
   "metadata": {},
   "outputs": [
    {
     "data": {
      "text/plain": [
       "artist\n",
       "LadyGagaVEVO               28\n",
       "Lady Gaga - Topic          22\n",
       "CinnamonToastKen           17\n",
       "Bountyhunter - Topic       16\n",
       "XoAmalia                   14\n",
       "SARA’H                     14\n",
       "Jill                       10\n",
       "Komuz - Topic               9\n",
       "Jasmine Thompson            8\n",
       "Yeah Yeah Yeahs - Topic     8\n",
       "Name: count, dtype: int64"
      ]
     },
     "execution_count": 6,
     "metadata": {},
     "output_type": "execute_result"
    }
   ],
   "source": [
    "import ast\n",
    "\n",
    "# Safely convert string to dictionary (if it's stored as a string)\n",
    "def extract_artist(sub):\n",
    "    try:\n",
    "        if isinstance(sub, list):\n",
    "            return sub[0]['name']\n",
    "        elif isinstance(sub, str):\n",
    "            sub_list = ast.literal_eval(sub)\n",
    "            return sub_list[0]['name'] if sub_list else None\n",
    "    except:\n",
    "        return None\n",
    "\n",
    "music_df['artist'] = music_df['subtitles'].apply(extract_artist)\n",
    "top_artists = music_df['artist'].value_counts().head(10)\n",
    "top_artists\n"
   ]
  },
  {
   "cell_type": "code",
   "execution_count": 7,
   "id": "4189b3ab-a864-4644-9e24-92f467a57adf",
   "metadata": {},
   "outputs": [
    {
     "ename": "ValueError",
     "evalue": "time data \"2025-07-12T07:25:39Z\" doesn't match format \"%Y-%m-%dT%H:%M:%S.%f%z\", at position 117. You might want to try:\n    - passing `format` if your strings have a consistent format;\n    - passing `format='ISO8601'` if your strings are all ISO8601 but not necessarily in exactly the same format;\n    - passing `format='mixed'`, and the format will be inferred for each element individually. You might want to use `dayfirst` alongside this.",
     "output_type": "error",
     "traceback": [
      "\u001b[31m---------------------------------------------------------------------------\u001b[39m",
      "\u001b[31mValueError\u001b[39m                                Traceback (most recent call last)",
      "\u001b[36mCell\u001b[39m\u001b[36m \u001b[39m\u001b[32mIn[7]\u001b[39m\u001b[32m, line 2\u001b[39m\n\u001b[32m      1\u001b[39m \u001b[38;5;66;03m# Convert time to datetime\u001b[39;00m\n\u001b[32m----> \u001b[39m\u001b[32m2\u001b[39m music_df[\u001b[33m'\u001b[39m\u001b[33mtime\u001b[39m\u001b[33m'\u001b[39m] = \u001b[43mpd\u001b[49m\u001b[43m.\u001b[49m\u001b[43mto_datetime\u001b[49m\u001b[43m(\u001b[49m\u001b[43mmusic_df\u001b[49m\u001b[43m[\u001b[49m\u001b[33;43m'\u001b[39;49m\u001b[33;43mtime\u001b[39;49m\u001b[33;43m'\u001b[39;49m\u001b[43m]\u001b[49m\u001b[43m)\u001b[49m\n\u001b[32m      4\u001b[39m \u001b[38;5;66;03m# Group by month\u001b[39;00m\n\u001b[32m      5\u001b[39m monthly_counts = music_df[\u001b[33m'\u001b[39m\u001b[33mtime\u001b[39m\u001b[33m'\u001b[39m].dt.to_period(\u001b[33m'\u001b[39m\u001b[33mM\u001b[39m\u001b[33m'\u001b[39m).value_counts().sort_index()\n",
      "\u001b[36mFile \u001b[39m\u001b[32m~\\AppData\\Local\\Programs\\Python\\Python313\\Lib\\site-packages\\pandas\\core\\tools\\datetimes.py:1067\u001b[39m, in \u001b[36mto_datetime\u001b[39m\u001b[34m(arg, errors, dayfirst, yearfirst, utc, format, exact, unit, infer_datetime_format, origin, cache)\u001b[39m\n\u001b[32m   1065\u001b[39m         result = arg.map(cache_array)\n\u001b[32m   1066\u001b[39m     \u001b[38;5;28;01melse\u001b[39;00m:\n\u001b[32m-> \u001b[39m\u001b[32m1067\u001b[39m         values = \u001b[43mconvert_listlike\u001b[49m\u001b[43m(\u001b[49m\u001b[43marg\u001b[49m\u001b[43m.\u001b[49m\u001b[43m_values\u001b[49m\u001b[43m,\u001b[49m\u001b[43m \u001b[49m\u001b[38;5;28;43mformat\u001b[39;49m\u001b[43m)\u001b[49m\n\u001b[32m   1068\u001b[39m         result = arg._constructor(values, index=arg.index, name=arg.name)\n\u001b[32m   1069\u001b[39m \u001b[38;5;28;01melif\u001b[39;00m \u001b[38;5;28misinstance\u001b[39m(arg, (ABCDataFrame, abc.MutableMapping)):\n",
      "\u001b[36mFile \u001b[39m\u001b[32m~\\AppData\\Local\\Programs\\Python\\Python313\\Lib\\site-packages\\pandas\\core\\tools\\datetimes.py:433\u001b[39m, in \u001b[36m_convert_listlike_datetimes\u001b[39m\u001b[34m(arg, format, name, utc, unit, errors, dayfirst, yearfirst, exact)\u001b[39m\n\u001b[32m    431\u001b[39m \u001b[38;5;66;03m# `format` could be inferred, or user didn't ask for mixed-format parsing.\u001b[39;00m\n\u001b[32m    432\u001b[39m \u001b[38;5;28;01mif\u001b[39;00m \u001b[38;5;28mformat\u001b[39m \u001b[38;5;129;01mis\u001b[39;00m \u001b[38;5;129;01mnot\u001b[39;00m \u001b[38;5;28;01mNone\u001b[39;00m \u001b[38;5;129;01mand\u001b[39;00m \u001b[38;5;28mformat\u001b[39m != \u001b[33m\"\u001b[39m\u001b[33mmixed\u001b[39m\u001b[33m\"\u001b[39m:\n\u001b[32m--> \u001b[39m\u001b[32m433\u001b[39m     \u001b[38;5;28;01mreturn\u001b[39;00m \u001b[43m_array_strptime_with_fallback\u001b[49m\u001b[43m(\u001b[49m\u001b[43marg\u001b[49m\u001b[43m,\u001b[49m\u001b[43m \u001b[49m\u001b[43mname\u001b[49m\u001b[43m,\u001b[49m\u001b[43m \u001b[49m\u001b[43mutc\u001b[49m\u001b[43m,\u001b[49m\u001b[43m \u001b[49m\u001b[38;5;28;43mformat\u001b[39;49m\u001b[43m,\u001b[49m\u001b[43m \u001b[49m\u001b[43mexact\u001b[49m\u001b[43m,\u001b[49m\u001b[43m \u001b[49m\u001b[43merrors\u001b[49m\u001b[43m)\u001b[49m\n\u001b[32m    435\u001b[39m result, tz_parsed = objects_to_datetime64(\n\u001b[32m    436\u001b[39m     arg,\n\u001b[32m    437\u001b[39m     dayfirst=dayfirst,\n\u001b[32m   (...)\u001b[39m\u001b[32m    441\u001b[39m     allow_object=\u001b[38;5;28;01mTrue\u001b[39;00m,\n\u001b[32m    442\u001b[39m )\n\u001b[32m    444\u001b[39m \u001b[38;5;28;01mif\u001b[39;00m tz_parsed \u001b[38;5;129;01mis\u001b[39;00m \u001b[38;5;129;01mnot\u001b[39;00m \u001b[38;5;28;01mNone\u001b[39;00m:\n\u001b[32m    445\u001b[39m     \u001b[38;5;66;03m# We can take a shortcut since the datetime64 numpy array\u001b[39;00m\n\u001b[32m    446\u001b[39m     \u001b[38;5;66;03m# is in UTC\u001b[39;00m\n",
      "\u001b[36mFile \u001b[39m\u001b[32m~\\AppData\\Local\\Programs\\Python\\Python313\\Lib\\site-packages\\pandas\\core\\tools\\datetimes.py:467\u001b[39m, in \u001b[36m_array_strptime_with_fallback\u001b[39m\u001b[34m(arg, name, utc, fmt, exact, errors)\u001b[39m\n\u001b[32m    456\u001b[39m \u001b[38;5;28;01mdef\u001b[39;00m\u001b[38;5;250m \u001b[39m\u001b[34m_array_strptime_with_fallback\u001b[39m(\n\u001b[32m    457\u001b[39m     arg,\n\u001b[32m    458\u001b[39m     name,\n\u001b[32m   (...)\u001b[39m\u001b[32m    462\u001b[39m     errors: \u001b[38;5;28mstr\u001b[39m,\n\u001b[32m    463\u001b[39m ) -> Index:\n\u001b[32m    464\u001b[39m \u001b[38;5;250m    \u001b[39m\u001b[33;03m\"\"\"\u001b[39;00m\n\u001b[32m    465\u001b[39m \u001b[33;03m    Call array_strptime, with fallback behavior depending on 'errors'.\u001b[39;00m\n\u001b[32m    466\u001b[39m \u001b[33;03m    \"\"\"\u001b[39;00m\n\u001b[32m--> \u001b[39m\u001b[32m467\u001b[39m     result, tz_out = \u001b[43marray_strptime\u001b[49m\u001b[43m(\u001b[49m\u001b[43marg\u001b[49m\u001b[43m,\u001b[49m\u001b[43m \u001b[49m\u001b[43mfmt\u001b[49m\u001b[43m,\u001b[49m\u001b[43m \u001b[49m\u001b[43mexact\u001b[49m\u001b[43m=\u001b[49m\u001b[43mexact\u001b[49m\u001b[43m,\u001b[49m\u001b[43m \u001b[49m\u001b[43merrors\u001b[49m\u001b[43m=\u001b[49m\u001b[43merrors\u001b[49m\u001b[43m,\u001b[49m\u001b[43m \u001b[49m\u001b[43mutc\u001b[49m\u001b[43m=\u001b[49m\u001b[43mutc\u001b[49m\u001b[43m)\u001b[49m\n\u001b[32m    468\u001b[39m     \u001b[38;5;28;01mif\u001b[39;00m tz_out \u001b[38;5;129;01mis\u001b[39;00m \u001b[38;5;129;01mnot\u001b[39;00m \u001b[38;5;28;01mNone\u001b[39;00m:\n\u001b[32m    469\u001b[39m         unit = np.datetime_data(result.dtype)[\u001b[32m0\u001b[39m]\n",
      "\u001b[36mFile \u001b[39m\u001b[32mstrptime.pyx:501\u001b[39m, in \u001b[36mpandas._libs.tslibs.strptime.array_strptime\u001b[39m\u001b[34m()\u001b[39m\n",
      "\u001b[36mFile \u001b[39m\u001b[32mstrptime.pyx:451\u001b[39m, in \u001b[36mpandas._libs.tslibs.strptime.array_strptime\u001b[39m\u001b[34m()\u001b[39m\n",
      "\u001b[36mFile \u001b[39m\u001b[32mstrptime.pyx:583\u001b[39m, in \u001b[36mpandas._libs.tslibs.strptime._parse_with_format\u001b[39m\u001b[34m()\u001b[39m\n",
      "\u001b[31mValueError\u001b[39m: time data \"2025-07-12T07:25:39Z\" doesn't match format \"%Y-%m-%dT%H:%M:%S.%f%z\", at position 117. You might want to try:\n    - passing `format` if your strings have a consistent format;\n    - passing `format='ISO8601'` if your strings are all ISO8601 but not necessarily in exactly the same format;\n    - passing `format='mixed'`, and the format will be inferred for each element individually. You might want to use `dayfirst` alongside this."
     ]
    }
   ],
   "source": [
    "# Convert time to datetime\n",
    "music_df['time'] = pd.to_datetime(music_df['time'])\n",
    "\n",
    "# Group by month\n",
    "monthly_counts = music_df['time'].dt.to_period('M').value_counts().sort_index()\n",
    "\n",
    "# Plot\n",
    "monthly_counts.plot(kind='bar', title='Your Monthly Listening Activity 🎵')\n"
   ]
  },
  {
   "cell_type": "code",
   "execution_count": 8,
   "id": "821bdb65-01a4-488c-a165-3d61fb185495",
   "metadata": {},
   "outputs": [],
   "source": [
    "# Convert with error handling\n",
    "music_df['time'] = pd.to_datetime(music_df['time'], errors='coerce')\n"
   ]
  },
  {
   "cell_type": "code",
   "execution_count": 9,
   "id": "37494729-57c7-4cd6-be66-d18b416fbac7",
   "metadata": {},
   "outputs": [
    {
     "name": "stderr",
     "output_type": "stream",
     "text": [
      "C:\\Users\\emmap\\AppData\\Local\\Temp\\ipykernel_19584\\2106134962.py:5: UserWarning: Converting to PeriodArray/Index representation will drop timezone information.\n",
      "  monthly_counts = music_df['time'].dt.to_period('M').value_counts().sort_index()\n"
     ]
    },
    {
     "ename": "ImportError",
     "evalue": "matplotlib is required for plotting when the default backend \"matplotlib\" is selected.",
     "output_type": "error",
     "traceback": [
      "\u001b[31m---------------------------------------------------------------------------\u001b[39m",
      "\u001b[31mImportError\u001b[39m                               Traceback (most recent call last)",
      "\u001b[36mCell\u001b[39m\u001b[36m \u001b[39m\u001b[32mIn[9]\u001b[39m\u001b[32m, line 8\u001b[39m\n\u001b[32m      5\u001b[39m monthly_counts = music_df[\u001b[33m'\u001b[39m\u001b[33mtime\u001b[39m\u001b[33m'\u001b[39m].dt.to_period(\u001b[33m'\u001b[39m\u001b[33mM\u001b[39m\u001b[33m'\u001b[39m).value_counts().sort_index()\n\u001b[32m      7\u001b[39m \u001b[38;5;66;03m# Plot\u001b[39;00m\n\u001b[32m----> \u001b[39m\u001b[32m8\u001b[39m \u001b[43mmonthly_counts\u001b[49m\u001b[43m.\u001b[49m\u001b[43mplot\u001b[49m\u001b[43m(\u001b[49m\u001b[43mkind\u001b[49m\u001b[43m=\u001b[49m\u001b[33;43m'\u001b[39;49m\u001b[33;43mbar\u001b[39;49m\u001b[33;43m'\u001b[39;49m\u001b[43m,\u001b[49m\u001b[43m \u001b[49m\u001b[43mtitle\u001b[49m\u001b[43m=\u001b[49m\u001b[33;43m'\u001b[39;49m\u001b[33;43mYour Monthly Listening Activity 🎵\u001b[39;49m\u001b[33;43m'\u001b[39;49m\u001b[43m)\u001b[49m\n",
      "\u001b[36mFile \u001b[39m\u001b[32m~\\AppData\\Local\\Programs\\Python\\Python313\\Lib\\site-packages\\pandas\\plotting\\_core.py:947\u001b[39m, in \u001b[36mPlotAccessor.__call__\u001b[39m\u001b[34m(self, *args, **kwargs)\u001b[39m\n\u001b[32m    946\u001b[39m \u001b[38;5;28;01mdef\u001b[39;00m\u001b[38;5;250m \u001b[39m\u001b[34m__call__\u001b[39m(\u001b[38;5;28mself\u001b[39m, *args, **kwargs):\n\u001b[32m--> \u001b[39m\u001b[32m947\u001b[39m     plot_backend = \u001b[43m_get_plot_backend\u001b[49m\u001b[43m(\u001b[49m\u001b[43mkwargs\u001b[49m\u001b[43m.\u001b[49m\u001b[43mpop\u001b[49m\u001b[43m(\u001b[49m\u001b[33;43m\"\u001b[39;49m\u001b[33;43mbackend\u001b[39;49m\u001b[33;43m\"\u001b[39;49m\u001b[43m,\u001b[49m\u001b[43m \u001b[49m\u001b[38;5;28;43;01mNone\u001b[39;49;00m\u001b[43m)\u001b[49m\u001b[43m)\u001b[49m\n\u001b[32m    949\u001b[39m     x, y, kind, kwargs = \u001b[38;5;28mself\u001b[39m._get_call_args(\n\u001b[32m    950\u001b[39m         plot_backend.\u001b[34m__name__\u001b[39m, \u001b[38;5;28mself\u001b[39m._parent, args, kwargs\n\u001b[32m    951\u001b[39m     )\n\u001b[32m    953\u001b[39m     kind = \u001b[38;5;28mself\u001b[39m._kind_aliases.get(kind, kind)\n",
      "\u001b[36mFile \u001b[39m\u001b[32m~\\AppData\\Local\\Programs\\Python\\Python313\\Lib\\site-packages\\pandas\\plotting\\_core.py:1944\u001b[39m, in \u001b[36m_get_plot_backend\u001b[39m\u001b[34m(backend)\u001b[39m\n\u001b[32m   1941\u001b[39m \u001b[38;5;28;01mif\u001b[39;00m backend_str \u001b[38;5;129;01min\u001b[39;00m _backends:\n\u001b[32m   1942\u001b[39m     \u001b[38;5;28;01mreturn\u001b[39;00m _backends[backend_str]\n\u001b[32m-> \u001b[39m\u001b[32m1944\u001b[39m module = \u001b[43m_load_backend\u001b[49m\u001b[43m(\u001b[49m\u001b[43mbackend_str\u001b[49m\u001b[43m)\u001b[49m\n\u001b[32m   1945\u001b[39m _backends[backend_str] = module\n\u001b[32m   1946\u001b[39m \u001b[38;5;28;01mreturn\u001b[39;00m module\n",
      "\u001b[36mFile \u001b[39m\u001b[32m~\\AppData\\Local\\Programs\\Python\\Python313\\Lib\\site-packages\\pandas\\plotting\\_core.py:1874\u001b[39m, in \u001b[36m_load_backend\u001b[39m\u001b[34m(backend)\u001b[39m\n\u001b[32m   1872\u001b[39m         module = importlib.import_module(\u001b[33m\"\u001b[39m\u001b[33mpandas.plotting._matplotlib\u001b[39m\u001b[33m\"\u001b[39m)\n\u001b[32m   1873\u001b[39m     \u001b[38;5;28;01mexcept\u001b[39;00m \u001b[38;5;167;01mImportError\u001b[39;00m:\n\u001b[32m-> \u001b[39m\u001b[32m1874\u001b[39m         \u001b[38;5;28;01mraise\u001b[39;00m \u001b[38;5;167;01mImportError\u001b[39;00m(\n\u001b[32m   1875\u001b[39m             \u001b[33m\"\u001b[39m\u001b[33mmatplotlib is required for plotting when the \u001b[39m\u001b[33m\"\u001b[39m\n\u001b[32m   1876\u001b[39m             \u001b[33m'\u001b[39m\u001b[33mdefault backend \u001b[39m\u001b[33m\"\u001b[39m\u001b[33mmatplotlib\u001b[39m\u001b[33m\"\u001b[39m\u001b[33m is selected.\u001b[39m\u001b[33m'\u001b[39m\n\u001b[32m   1877\u001b[39m         ) \u001b[38;5;28;01mfrom\u001b[39;00m\u001b[38;5;250m \u001b[39m\u001b[38;5;28;01mNone\u001b[39;00m\n\u001b[32m   1878\u001b[39m     \u001b[38;5;28;01mreturn\u001b[39;00m module\n\u001b[32m   1880\u001b[39m found_backend = \u001b[38;5;28;01mFalse\u001b[39;00m\n",
      "\u001b[31mImportError\u001b[39m: matplotlib is required for plotting when the default backend \"matplotlib\" is selected."
     ]
    }
   ],
   "source": [
    "# Remove invalid timestamps\n",
    "music_df = music_df.dropna(subset=['time'])\n",
    "\n",
    "# Group by month\n",
    "monthly_counts = music_df['time'].dt.to_period('M').value_counts().sort_index()\n",
    "\n",
    "# Plot\n",
    "monthly_counts.plot(kind='bar', title='Your Monthly Listening Activity 🎵')\n"
   ]
  },
  {
   "cell_type": "code",
   "execution_count": 10,
   "id": "ed43417a-b466-4143-9d86-e639d8505d92",
   "metadata": {},
   "outputs": [
    {
     "name": "stderr",
     "output_type": "stream",
     "text": [
      "C:\\Users\\emmap\\AppData\\Local\\Temp\\ipykernel_19584\\2367506916.py:7: UserWarning: Converting to PeriodArray/Index representation will drop timezone information.\n",
      "  monthly_counts = music_df['time'].dt.to_period('M').value_counts().sort_index()\n",
      "C:\\Users\\emmap\\AppData\\Local\\Temp\\ipykernel_19584\\2367506916.py:13: UserWarning: Glyph 127926 (\\N{MULTIPLE MUSICAL NOTES}) missing from font(s) DejaVu Sans.\n",
      "  plt.tight_layout()\n",
      "C:\\Users\\emmap\\AppData\\Local\\Programs\\Python\\Python313\\Lib\\site-packages\\IPython\\core\\pylabtools.py:170: UserWarning: Glyph 127926 (\\N{MULTIPLE MUSICAL NOTES}) missing from font(s) DejaVu Sans.\n",
      "  fig.canvas.print_figure(bytes_io, **kw)\n"
     ]
    },
    {
     "data": {
      "image/png": "[encoded data removed]",
      "text/plain": [
       "<Figure size 1000x500 with 1 Axes>"
      ]
     },
     "metadata": {},
     "output_type": "display_data"
    }
   ],
   "source": [
    "import matplotlib.pyplot as plt\n",
    "\n",
    "# Make sure your time column is datetime\n",
    "music_df['time'] = pd.to_datetime(music_df['time'], errors='coerce')\n",
    "\n",
    "# Group by month\n",
    "monthly_counts = music_df['time'].dt.to_period('M').value_counts().sort_index()\n",
    "\n",
    "# Plot\n",
    "monthly_counts.plot(kind='bar', figsize=(10, 5), color='orchid', title='Your Monthly Listening Activity 🎶')\n",
    "plt.xlabel(\"Month\")\n",
    "plt.ylabel(\"Number of Songs Watched\")\n",
    "plt.tight_layout()\n",
    "plt.show()\n"
   ]
  },
  {
   "cell_type": "code",
   "execution_count": null,
   "id": "64d7a15c-302c-43c8-9de6-8b4ee2b27d14",
   "metadata": {},
   "outputs": [],
   "source": []
  }
 ],
 "metadata": {
  "kernelspec": {
   "display_name": "Python 3 (ipykernel)",
   "language": "python",
   "name": "python3"
  },
  "language_info": {
   "codemirror_mode": {
    "name": "ipython",
    "version": 3
   },
   "file_extension": ".py",
   "mimetype": "text/x-python",
   "name": "python",
   "nbconvert_exporter": "python",
   "pygments_lexer": "ipython3",
   "version": "3.13.2"
  }
 },
 "nbformat": 4,
 "nbformat_minor": 5
}
